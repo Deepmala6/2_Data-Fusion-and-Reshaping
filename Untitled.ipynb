{
 "cells": [
  {
   "cell_type": "code",
   "execution_count": 68,
   "id": "cb32e4e3",
   "metadata": {},
   "outputs": [],
   "source": [
    "#diffrent types of libary which used for fusion and Reshaping.\n",
    "import numpy as np\n",
    "import pandas as pd\n"
   ]
  },
  {
   "cell_type": "code",
   "execution_count": 69,
   "id": "4cec9ab3",
   "metadata": {},
   "outputs": [
    {
     "data": {
      "text/html": [
       "<div>\n",
       "<style scoped>\n",
       "    .dataframe tbody tr th:only-of-type {\n",
       "        vertical-align: middle;\n",
       "    }\n",
       "\n",
       "    .dataframe tbody tr th {\n",
       "        vertical-align: top;\n",
       "    }\n",
       "\n",
       "    .dataframe thead th {\n",
       "        text-align: right;\n",
       "    }\n",
       "</style>\n",
       "<table border=\"1\" class=\"dataframe\">\n",
       "  <thead>\n",
       "    <tr style=\"text-align: right;\">\n",
       "      <th></th>\n",
       "      <th>Brand</th>\n",
       "      <th>Model</th>\n",
       "      <th>Submodel</th>\n",
       "      <th>Tyre Brand</th>\n",
       "      <th>Serial No.</th>\n",
       "      <th>Type</th>\n",
       "      <th>Load Index</th>\n",
       "      <th>Size</th>\n",
       "      <th>Selling Price</th>\n",
       "      <th>Original Price</th>\n",
       "      <th>Rating</th>\n",
       "    </tr>\n",
       "  </thead>\n",
       "  <tbody>\n",
       "    <tr>\n",
       "      <th>0</th>\n",
       "      <td>Maruti</td>\n",
       "      <td>Swift Dzire</td>\n",
       "      <td>LDI (Diesel)</td>\n",
       "      <td>JKTyre</td>\n",
       "      <td>Taximaxx</td>\n",
       "      <td>Tubeless</td>\n",
       "      <td>85</td>\n",
       "      <td>165/80 R 14</td>\n",
       "      <td>3,255</td>\n",
       "      <td>3,255</td>\n",
       "      <td>5.0</td>\n",
       "    </tr>\n",
       "    <tr>\n",
       "      <th>1</th>\n",
       "      <td>Maruti</td>\n",
       "      <td>Swift Dzire</td>\n",
       "      <td>LDI (Diesel)</td>\n",
       "      <td>CEAT</td>\n",
       "      <td>Milage X3</td>\n",
       "      <td>Tubeless</td>\n",
       "      <td>85</td>\n",
       "      <td>165/80 R 14</td>\n",
       "      <td>3,406</td>\n",
       "      <td>3,406</td>\n",
       "      <td>4.0</td>\n",
       "    </tr>\n",
       "    <tr>\n",
       "      <th>2</th>\n",
       "      <td>Maruti</td>\n",
       "      <td>Swift Dzire</td>\n",
       "      <td>LDI (Diesel)</td>\n",
       "      <td>Apollo</td>\n",
       "      <td>Amazer 4G Life</td>\n",
       "      <td>Tubeless</td>\n",
       "      <td>85</td>\n",
       "      <td>165/80 R 14</td>\n",
       "      <td>3,490</td>\n",
       "      <td>4,319</td>\n",
       "      <td>4.5</td>\n",
       "    </tr>\n",
       "    <tr>\n",
       "      <th>3</th>\n",
       "      <td>Maruti</td>\n",
       "      <td>Swift Dzire</td>\n",
       "      <td>LDI (Diesel)</td>\n",
       "      <td>Continental</td>\n",
       "      <td>Comfort Contact CC6</td>\n",
       "      <td>Tubeless</td>\n",
       "      <td>85</td>\n",
       "      <td>165/80 R 14</td>\n",
       "      <td>4,484</td>\n",
       "      <td>4,244</td>\n",
       "      <td>NaN</td>\n",
       "    </tr>\n",
       "    <tr>\n",
       "      <th>4</th>\n",
       "      <td>Maruti</td>\n",
       "      <td>Swift Dzire</td>\n",
       "      <td>LDI (Diesel)</td>\n",
       "      <td>GoodYear</td>\n",
       "      <td>Assurance Duraplus 2</td>\n",
       "      <td>Tubeless</td>\n",
       "      <td>85</td>\n",
       "      <td>165/80 R 14</td>\n",
       "      <td>3,025</td>\n",
       "      <td>3,025</td>\n",
       "      <td>4.2</td>\n",
       "    </tr>\n",
       "  </tbody>\n",
       "</table>\n",
       "</div>"
      ],
      "text/plain": [
       "   Brand         Model      Submodel   Tyre Brand            Serial No.  \\\n",
       "0  Maruti  Swift Dzire  LDI (Diesel)       JKTyre              Taximaxx   \n",
       "1  Maruti  Swift Dzire  LDI (Diesel)         CEAT             Milage X3   \n",
       "2  Maruti  Swift Dzire  LDI (Diesel)       Apollo        Amazer 4G Life   \n",
       "3  Maruti  Swift Dzire  LDI (Diesel)  Continental   Comfort Contact CC6   \n",
       "4  Maruti  Swift Dzire  LDI (Diesel)     GoodYear  Assurance Duraplus 2   \n",
       "\n",
       "       Type  Load Index         Size Selling Price Original Price  Rating  \n",
       "0  Tubeless          85  165/80 R 14         3,255          3,255     5.0  \n",
       "1  Tubeless          85  165/80 R 14         3,406          3,406     4.0  \n",
       "2  Tubeless          85  165/80 R 14         3,490          4,319     4.5  \n",
       "3  Tubeless          85  165/80 R 14         4,484          4,244     NaN  \n",
       "4  Tubeless          85  165/80 R 14         3,025          3,025     4.2  "
      ]
     },
     "execution_count": 69,
     "metadata": {},
     "output_type": "execute_result"
    }
   ],
   "source": [
    "df_1 = pd.read_csv(\"C:\\\\Users\\\\deepm\\\\Downloads\\\\Car_Tyres_Dataset.csv\")\n",
    "df_1.head()"
   ]
  },
  {
   "cell_type": "code",
   "execution_count": 70,
   "id": "efa10a19",
   "metadata": {},
   "outputs": [
    {
     "data": {
      "text/html": [
       "<div>\n",
       "<style scoped>\n",
       "    .dataframe tbody tr th:only-of-type {\n",
       "        vertical-align: middle;\n",
       "    }\n",
       "\n",
       "    .dataframe tbody tr th {\n",
       "        vertical-align: top;\n",
       "    }\n",
       "\n",
       "    .dataframe thead th {\n",
       "        text-align: right;\n",
       "    }\n",
       "</style>\n",
       "<table border=\"1\" class=\"dataframe\">\n",
       "  <thead>\n",
       "    <tr style=\"text-align: right;\">\n",
       "      <th></th>\n",
       "      <th>model</th>\n",
       "      <th>year</th>\n",
       "      <th>odometer</th>\n",
       "      <th>price</th>\n",
       "      <th>location</th>\n",
       "      <th>driveTrain</th>\n",
       "      <th>DAS</th>\n",
       "      <th>accident_history</th>\n",
       "      <th>paintJob</th>\n",
       "      <th>wheels</th>\n",
       "      <th>emi</th>\n",
       "      <th>zipCode</th>\n",
       "      <th>interior</th>\n",
       "      <th>state</th>\n",
       "    </tr>\n",
       "  </thead>\n",
       "  <tbody>\n",
       "    <tr>\n",
       "      <th>0</th>\n",
       "      <td>Model S</td>\n",
       "      <td>2018.0</td>\n",
       "      <td>36438.0</td>\n",
       "      <td>53300.0</td>\n",
       "      <td>Colma, CA</td>\n",
       "      <td>100D Long Range All-Wheel Drive</td>\n",
       "      <td>Autopilot</td>\n",
       "      <td>Previously Repaired</td>\n",
       "      <td>Red Multi-Coat Paint</td>\n",
       "      <td>19\" Silver Slipstream Wheels</td>\n",
       "      <td>$824 /mo</td>\n",
       "      <td>85209</td>\n",
       "      <td>Cream Premium Interior</td>\n",
       "      <td>CA</td>\n",
       "    </tr>\n",
       "    <tr>\n",
       "      <th>1</th>\n",
       "      <td>Model S</td>\n",
       "      <td>2018.0</td>\n",
       "      <td>30180.0</td>\n",
       "      <td>59200.0</td>\n",
       "      <td>Colma, CA</td>\n",
       "      <td>100D Long Range All-Wheel Drive</td>\n",
       "      <td>Previously Repaired</td>\n",
       "      <td>30-Day Premium Connectivity Trial</td>\n",
       "      <td>Midnight Silver Metallic Paint</td>\n",
       "      <td>21\" Sonic Carbon Twin Turbine Wheels</td>\n",
       "      <td>$930 /mo</td>\n",
       "      <td>85209</td>\n",
       "      <td>Black Premium Interior</td>\n",
       "      <td>CA</td>\n",
       "    </tr>\n",
       "    <tr>\n",
       "      <th>2</th>\n",
       "      <td>Model S</td>\n",
       "      <td>2018.0</td>\n",
       "      <td>95696.0</td>\n",
       "      <td>36100.0</td>\n",
       "      <td>Scottsdale, AZ</td>\n",
       "      <td>100D Long Range All-Wheel Drive</td>\n",
       "      <td>Enhanced Autopilot</td>\n",
       "      <td>No Reported Accidents/Damage</td>\n",
       "      <td>Midnight Silver Metallic Paint</td>\n",
       "      <td>19\" Sonic Carbon Slipstream Wheels</td>\n",
       "      <td>$514 /mo</td>\n",
       "      <td>85209</td>\n",
       "      <td>Black Premium Interior</td>\n",
       "      <td>AZ</td>\n",
       "    </tr>\n",
       "    <tr>\n",
       "      <th>3</th>\n",
       "      <td>Model S</td>\n",
       "      <td>2018.0</td>\n",
       "      <td>36438.0</td>\n",
       "      <td>53300.0</td>\n",
       "      <td>Colma, CA</td>\n",
       "      <td>100D Long Range All-Wheel Drive</td>\n",
       "      <td>Autopilot</td>\n",
       "      <td>Previously Repaired</td>\n",
       "      <td>Red Multi-Coat Paint</td>\n",
       "      <td>19\" Silver Slipstream Wheels</td>\n",
       "      <td>$824 /mo</td>\n",
       "      <td>85251</td>\n",
       "      <td>Cream Premium Interior</td>\n",
       "      <td>CA</td>\n",
       "    </tr>\n",
       "    <tr>\n",
       "      <th>4</th>\n",
       "      <td>Model S</td>\n",
       "      <td>2018.0</td>\n",
       "      <td>30180.0</td>\n",
       "      <td>59200.0</td>\n",
       "      <td>Colma, CA</td>\n",
       "      <td>100D Long Range All-Wheel Drive</td>\n",
       "      <td>Previously Repaired</td>\n",
       "      <td>30-Day Premium Connectivity Trial</td>\n",
       "      <td>Midnight Silver Metallic Paint</td>\n",
       "      <td>21\" Sonic Carbon Twin Turbine Wheels</td>\n",
       "      <td>$930 /mo</td>\n",
       "      <td>85251</td>\n",
       "      <td>Black Premium Interior</td>\n",
       "      <td>CA</td>\n",
       "    </tr>\n",
       "  </tbody>\n",
       "</table>\n",
       "</div>"
      ],
      "text/plain": [
       "     model    year  odometer    price        location  \\\n",
       "0  Model S  2018.0   36438.0  53300.0       Colma, CA   \n",
       "1  Model S  2018.0   30180.0  59200.0       Colma, CA   \n",
       "2  Model S  2018.0   95696.0  36100.0  Scottsdale, AZ   \n",
       "3  Model S  2018.0   36438.0  53300.0       Colma, CA   \n",
       "4  Model S  2018.0   30180.0  59200.0       Colma, CA   \n",
       "\n",
       "                        driveTrain                  DAS  \\\n",
       "0  100D Long Range All-Wheel Drive            Autopilot   \n",
       "1  100D Long Range All-Wheel Drive  Previously Repaired   \n",
       "2  100D Long Range All-Wheel Drive   Enhanced Autopilot   \n",
       "3  100D Long Range All-Wheel Drive            Autopilot   \n",
       "4  100D Long Range All-Wheel Drive  Previously Repaired   \n",
       "\n",
       "                    accident_history                        paintJob  \\\n",
       "0                Previously Repaired            Red Multi-Coat Paint   \n",
       "1  30-Day Premium Connectivity Trial  Midnight Silver Metallic Paint   \n",
       "2       No Reported Accidents/Damage  Midnight Silver Metallic Paint   \n",
       "3                Previously Repaired            Red Multi-Coat Paint   \n",
       "4  30-Day Premium Connectivity Trial  Midnight Silver Metallic Paint   \n",
       "\n",
       "                                 wheels       emi  zipCode  \\\n",
       "0          19\" Silver Slipstream Wheels  $824 /mo    85209   \n",
       "1  21\" Sonic Carbon Twin Turbine Wheels  $930 /mo    85209   \n",
       "2    19\" Sonic Carbon Slipstream Wheels  $514 /mo    85209   \n",
       "3          19\" Silver Slipstream Wheels  $824 /mo    85251   \n",
       "4  21\" Sonic Carbon Twin Turbine Wheels  $930 /mo    85251   \n",
       "\n",
       "                 interior state  \n",
       "0  Cream Premium Interior    CA  \n",
       "1  Black Premium Interior    CA  \n",
       "2  Black Premium Interior    AZ  \n",
       "3  Cream Premium Interior    CA  \n",
       "4  Black Premium Interior    CA  "
      ]
     },
     "execution_count": 70,
     "metadata": {},
     "output_type": "execute_result"
    }
   ],
   "source": [
    "df_2 = pd.read_csv(\"C:\\\\Users\\\\deepm\\\\Downloads\\\\tslaUsedCarsInventoryDataSet.csv\")\n",
    "df_2.head()"
   ]
  },
  {
   "cell_type": "code",
   "execution_count": 71,
   "id": "13a7e575",
   "metadata": {},
   "outputs": [
    {
     "data": {
      "text/html": [
       "<div>\n",
       "<style scoped>\n",
       "    .dataframe tbody tr th:only-of-type {\n",
       "        vertical-align: middle;\n",
       "    }\n",
       "\n",
       "    .dataframe tbody tr th {\n",
       "        vertical-align: top;\n",
       "    }\n",
       "\n",
       "    .dataframe thead th {\n",
       "        text-align: right;\n",
       "    }\n",
       "</style>\n",
       "<table border=\"1\" class=\"dataframe\">\n",
       "  <thead>\n",
       "    <tr style=\"text-align: right;\">\n",
       "      <th></th>\n",
       "      <th>Load Index</th>\n",
       "      <th>Rating</th>\n",
       "    </tr>\n",
       "  </thead>\n",
       "  <tbody>\n",
       "    <tr>\n",
       "      <th>count</th>\n",
       "      <td>4350.000000</td>\n",
       "      <td>2248.000000</td>\n",
       "    </tr>\n",
       "    <tr>\n",
       "      <th>mean</th>\n",
       "      <td>84.101609</td>\n",
       "      <td>4.297598</td>\n",
       "    </tr>\n",
       "    <tr>\n",
       "      <th>std</th>\n",
       "      <td>6.716769</td>\n",
       "      <td>0.698433</td>\n",
       "    </tr>\n",
       "    <tr>\n",
       "      <th>min</th>\n",
       "      <td>69.000000</td>\n",
       "      <td>1.900000</td>\n",
       "    </tr>\n",
       "    <tr>\n",
       "      <th>25%</th>\n",
       "      <td>79.000000</td>\n",
       "      <td>4.000000</td>\n",
       "    </tr>\n",
       "    <tr>\n",
       "      <th>50%</th>\n",
       "      <td>86.000000</td>\n",
       "      <td>4.300000</td>\n",
       "    </tr>\n",
       "    <tr>\n",
       "      <th>75%</th>\n",
       "      <td>88.000000</td>\n",
       "      <td>5.000000</td>\n",
       "    </tr>\n",
       "    <tr>\n",
       "      <th>max</th>\n",
       "      <td>106.000000</td>\n",
       "      <td>5.000000</td>\n",
       "    </tr>\n",
       "  </tbody>\n",
       "</table>\n",
       "</div>"
      ],
      "text/plain": [
       "        Load Index       Rating\n",
       "count  4350.000000  2248.000000\n",
       "mean     84.101609     4.297598\n",
       "std       6.716769     0.698433\n",
       "min      69.000000     1.900000\n",
       "25%      79.000000     4.000000\n",
       "50%      86.000000     4.300000\n",
       "75%      88.000000     5.000000\n",
       "max     106.000000     5.000000"
      ]
     },
     "execution_count": 71,
     "metadata": {},
     "output_type": "execute_result"
    }
   ],
   "source": [
    "df_1.describe()"
   ]
  },
  {
   "cell_type": "code",
   "execution_count": 72,
   "id": "1ff21903",
   "metadata": {},
   "outputs": [
    {
     "data": {
      "text/html": [
       "<div>\n",
       "<style scoped>\n",
       "    .dataframe tbody tr th:only-of-type {\n",
       "        vertical-align: middle;\n",
       "    }\n",
       "\n",
       "    .dataframe tbody tr th {\n",
       "        vertical-align: top;\n",
       "    }\n",
       "\n",
       "    .dataframe thead th {\n",
       "        text-align: right;\n",
       "    }\n",
       "</style>\n",
       "<table border=\"1\" class=\"dataframe\">\n",
       "  <thead>\n",
       "    <tr style=\"text-align: right;\">\n",
       "      <th></th>\n",
       "      <th>year</th>\n",
       "      <th>odometer</th>\n",
       "      <th>price</th>\n",
       "      <th>zipCode</th>\n",
       "    </tr>\n",
       "  </thead>\n",
       "  <tbody>\n",
       "    <tr>\n",
       "      <th>count</th>\n",
       "      <td>232.0</td>\n",
       "      <td>1912.000000</td>\n",
       "      <td>1912.000000</td>\n",
       "      <td>1912.000000</td>\n",
       "    </tr>\n",
       "    <tr>\n",
       "      <th>mean</th>\n",
       "      <td>2018.0</td>\n",
       "      <td>30374.755753</td>\n",
       "      <td>45444.246862</td>\n",
       "      <td>88908.178870</td>\n",
       "    </tr>\n",
       "    <tr>\n",
       "      <th>std</th>\n",
       "      <td>0.0</td>\n",
       "      <td>16407.869396</td>\n",
       "      <td>11533.143755</td>\n",
       "      <td>3962.972473</td>\n",
       "    </tr>\n",
       "    <tr>\n",
       "      <th>min</th>\n",
       "      <td>2018.0</td>\n",
       "      <td>131.000000</td>\n",
       "      <td>26500.000000</td>\n",
       "      <td>85209.000000</td>\n",
       "    </tr>\n",
       "    <tr>\n",
       "      <th>25%</th>\n",
       "      <td>2018.0</td>\n",
       "      <td>18065.000000</td>\n",
       "      <td>36900.000000</td>\n",
       "      <td>85260.000000</td>\n",
       "    </tr>\n",
       "    <tr>\n",
       "      <th>50%</th>\n",
       "      <td>2018.0</td>\n",
       "      <td>28591.000000</td>\n",
       "      <td>43900.000000</td>\n",
       "      <td>85704.000000</td>\n",
       "    </tr>\n",
       "    <tr>\n",
       "      <th>75%</th>\n",
       "      <td>2018.0</td>\n",
       "      <td>38470.250000</td>\n",
       "      <td>52100.000000</td>\n",
       "      <td>93311.000000</td>\n",
       "    </tr>\n",
       "    <tr>\n",
       "      <th>max</th>\n",
       "      <td>2018.0</td>\n",
       "      <td>95696.000000</td>\n",
       "      <td>86200.000000</td>\n",
       "      <td>95403.000000</td>\n",
       "    </tr>\n",
       "  </tbody>\n",
       "</table>\n",
       "</div>"
      ],
      "text/plain": [
       "         year      odometer         price       zipCode\n",
       "count   232.0   1912.000000   1912.000000   1912.000000\n",
       "mean   2018.0  30374.755753  45444.246862  88908.178870\n",
       "std       0.0  16407.869396  11533.143755   3962.972473\n",
       "min    2018.0    131.000000  26500.000000  85209.000000\n",
       "25%    2018.0  18065.000000  36900.000000  85260.000000\n",
       "50%    2018.0  28591.000000  43900.000000  85704.000000\n",
       "75%    2018.0  38470.250000  52100.000000  93311.000000\n",
       "max    2018.0  95696.000000  86200.000000  95403.000000"
      ]
     },
     "execution_count": 72,
     "metadata": {},
     "output_type": "execute_result"
    }
   ],
   "source": [
    "df_2.describe()"
   ]
  },
  {
   "cell_type": "code",
   "execution_count": 73,
   "id": "c3fb8dde",
   "metadata": {},
   "outputs": [
    {
     "data": {
      "text/plain": [
       "(4350, 11)"
      ]
     },
     "execution_count": 73,
     "metadata": {},
     "output_type": "execute_result"
    }
   ],
   "source": [
    "df_1.shape"
   ]
  },
  {
   "cell_type": "code",
   "execution_count": 74,
   "id": "fbfba8ff",
   "metadata": {},
   "outputs": [
    {
     "data": {
      "text/plain": [
       "(1912, 14)"
      ]
     },
     "execution_count": 74,
     "metadata": {},
     "output_type": "execute_result"
    }
   ],
   "source": [
    "df_2.shape"
   ]
  },
  {
   "cell_type": "code",
   "execution_count": 75,
   "id": "4429180b",
   "metadata": {},
   "outputs": [
    {
     "data": {
      "text/plain": [
       "Brand             0\n",
       "Model             0\n",
       "Submodel          0\n",
       "Tyre Brand        0\n",
       "Serial No.        0\n",
       "Type              0\n",
       "Load Index        0\n",
       "Size              0\n",
       "Selling Price     0\n",
       "Original Price    0\n",
       "dtype: int64"
      ]
     },
     "execution_count": 75,
     "metadata": {},
     "output_type": "execute_result"
    }
   ],
   "source": [
    "df_1.drop(columns=['Rating'], inplace=True)\n",
    "df_1.isna().sum()"
   ]
  },
  {
   "cell_type": "code",
   "execution_count": 76,
   "id": "5f8d359b",
   "metadata": {},
   "outputs": [],
   "source": [
    "df_2.drop(columns=['year', 'location', 'state'], inplace=True)\n",
    "df_2['driveTrain'].fillna(df_2['driveTrain'].mode()[0], inplace=True)\n",
    "df_2['price'].fillna(df_2['price'].median(), inplace=True)\n",
    "df_2.dropna(subset=['model', 'price'], inplace=True)\n"
   ]
  },
  {
   "cell_type": "code",
   "execution_count": 77,
   "id": "43faa0d5",
   "metadata": {},
   "outputs": [
    {
     "name": "stdout",
     "output_type": "stream",
     "text": [
      "model               0\n",
      "odometer            0\n",
      "price               0\n",
      "driveTrain          0\n",
      "DAS                 0\n",
      "accident_history    0\n",
      "paintJob            0\n",
      "wheels              0\n",
      "emi                 0\n",
      "zipCode             0\n",
      "interior            0\n",
      "dtype: int64\n"
     ]
    }
   ],
   "source": [
    "print(df_2.isna().sum())"
   ]
  },
  {
   "cell_type": "code",
   "execution_count": 78,
   "id": "785cf5e2",
   "metadata": {},
   "outputs": [
    {
     "name": "stdout",
     "output_type": "stream",
     "text": [
      "   Brand         Model      Submodel   Tyre Brand            Serial No.  \\\n",
      "0  Maruti  Swift Dzire  LDI (Diesel)       JKTyre              Taximaxx   \n",
      "1  Maruti  Swift Dzire  LDI (Diesel)         CEAT             Milage X3   \n",
      "2  Maruti  Swift Dzire  LDI (Diesel)       Apollo        Amazer 4G Life   \n",
      "3  Maruti  Swift Dzire  LDI (Diesel)  Continental   Comfort Contact CC6   \n",
      "4  Maruti  Swift Dzire  LDI (Diesel)     GoodYear  Assurance Duraplus 2   \n",
      "\n",
      "       Type  Load Index         Size Selling Price Original Price  ...  \\\n",
      "0  Tubeless        85.0  165/80 R 14         3,255          3,255  ...   \n",
      "1  Tubeless        85.0  165/80 R 14         3,406          3,406  ...   \n",
      "2  Tubeless        85.0  165/80 R 14         3,490          4,319  ...   \n",
      "3  Tubeless        85.0  165/80 R 14         4,484          4,244  ...   \n",
      "4  Tubeless        85.0  165/80 R 14         3,025          3,025  ...   \n",
      "\n",
      "  odometer  price  driveTrain  DAS accident_history paintJob wheels  emi  \\\n",
      "0      NaN    NaN         NaN  NaN              NaN      NaN    NaN  NaN   \n",
      "1      NaN    NaN         NaN  NaN              NaN      NaN    NaN  NaN   \n",
      "2      NaN    NaN         NaN  NaN              NaN      NaN    NaN  NaN   \n",
      "3      NaN    NaN         NaN  NaN              NaN      NaN    NaN  NaN   \n",
      "4      NaN    NaN         NaN  NaN              NaN      NaN    NaN  NaN   \n",
      "\n",
      "  zipCode  interior  \n",
      "0     NaN       NaN  \n",
      "1     NaN       NaN  \n",
      "2     NaN       NaN  \n",
      "3     NaN       NaN  \n",
      "4     NaN       NaN  \n",
      "\n",
      "[5 rows x 21 columns]\n"
     ]
    }
   ],
   "source": [
    "# DATA- Fusion------\n",
    "\n",
    "# Merging df_1 and df_2 on the 'Model' column\n",
    "df_merged = pd.merge(df_1, df_2, left_on='Model', right_on='model', how='outer')\n",
    "\n",
    "# Display the first few rows of the merged dataframe\n",
    "print(df_merged.head())"
   ]
  },
  {
   "cell_type": "code",
   "execution_count": 86,
   "id": "012aa6ad",
   "metadata": {},
   "outputs": [
    {
     "name": "stdout",
     "output_type": "stream",
     "text": [
      "Empty DataFrame\n",
      "Columns: [Brand , Model, Submodel, Tyre Brand, Serial No., Type, Load Index, Size, Selling Price, Original Price, model, odometer, price, driveTrain, DAS, accident_history, paintJob, wheels, emi, zipCode, interior]\n",
      "Index: []\n",
      "\n",
      "[0 rows x 21 columns]\n"
     ]
    }
   ],
   "source": [
    "# Merging df_1 and df_2 on the 'Model' column\n",
    "df_merged = pd.merge(df_1, df_2, left_on='Model', right_on='model', how='inner')\n",
    "\n",
    "# Display the first few rows of the merged dataframe\n",
    "print(df_merged.head())"
   ]
  },
  {
   "cell_type": "code",
   "execution_count": 87,
   "id": "6be61785",
   "metadata": {},
   "outputs": [],
   "source": [
    "# IT give empty dataframe because of No Matching Data."
   ]
  },
  {
   "cell_type": "code",
   "execution_count": 89,
   "id": "ed689cb3",
   "metadata": {},
   "outputs": [
    {
     "name": "stdout",
     "output_type": "stream",
     "text": [
      "Empty DataFrame\n",
      "Columns: []\n",
      "Index: []\n"
     ]
    }
   ],
   "source": [
    "# Reshaping data using Pivot Table \n",
    "# Pivoting the data to get the average Selling Price by Model (excluding Rating)\n",
    "pivoted_data = df_merged.pivot_table(\n",
    "    index='Model',  # Rows will be the model names\n",
    "    values='Selling Price',  # Columns to aggregate\n",
    "    aggfunc='mean'  # Aggregation function (mean)\n",
    ")\n",
    "\n",
    "print(pivoted_data)"
   ]
  },
  {
   "cell_type": "code",
   "execution_count": 90,
   "id": "5f461cf6",
   "metadata": {},
   "outputs": [
    {
     "name": "stdout",
     "output_type": "stream",
     "text": [
      "Empty DataFrame\n",
      "Columns: [Model, Attribute, Value]\n",
      "Index: []\n"
     ]
    }
   ],
   "source": [
    "# Reshaping data using melt function.\n",
    "# Melting the data to transform 'Selling Price' into long format\n",
    "melted_data = df_merged.melt(\n",
    "    id_vars=['Model'],  # The column(s) to keep fixed (identifier)\n",
    "    value_vars=['Selling Price'],  # Columns to unpivot\n",
    "    var_name='Attribute',  # Name for the column that holds variable names (Selling Price)\n",
    "    value_name='Value'  # Name for the column that holds the values\n",
    ")\n",
    "\n",
    "print(melted_data)"
   ]
  },
  {
   "cell_type": "code",
   "execution_count": 91,
   "id": "edb7a56d",
   "metadata": {},
   "outputs": [
    {
     "data": {
      "text/plain": [
       "'An empty DataFrame is typically returned in cases where the input data does not meet the criteria required for the operation being performed. In the context of reshaping or merging data, this can happen if there is no matching data for the specified conditions.'"
      ]
     },
     "execution_count": 91,
     "metadata": {},
     "output_type": "execute_result"
    }
   ],
   "source": [
    "'''An empty DataFrame is typically returned in cases where the input data does not meet the criteria required for the operation being performed. In the context of reshaping or merging data, this can happen if there is no matching data for the specified conditions.''' "
   ]
  },
  {
   "cell_type": "code",
   "execution_count": null,
   "id": "6891b36e",
   "metadata": {},
   "outputs": [],
   "source": []
  }
 ],
 "metadata": {
  "kernelspec": {
   "display_name": "Python 3 (ipykernel)",
   "language": "python",
   "name": "python3"
  },
  "language_info": {
   "codemirror_mode": {
    "name": "ipython",
    "version": 3
   },
   "file_extension": ".py",
   "mimetype": "text/x-python",
   "name": "python",
   "nbconvert_exporter": "python",
   "pygments_lexer": "ipython3",
   "version": "3.11.5"
  }
 },
 "nbformat": 4,
 "nbformat_minor": 5
}
